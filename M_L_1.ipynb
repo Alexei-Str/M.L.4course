{
  "nbformat": 4,
  "nbformat_minor": 0,
  "metadata": {
    "colab": {
      "provenance": [],
      "collapsed_sections": [],
      "authorship_tag": "ABX9TyNkOGdW+5DEeDUaa5caw+6Q",
      "include_colab_link": true
    },
    "kernelspec": {
      "name": "python3",
      "display_name": "Python 3"
    },
    "language_info": {
      "name": "python"
    }
  },
  "cells": [
    {
      "cell_type": "markdown",
      "metadata": {
        "id": "view-in-github",
        "colab_type": "text"
      },
      "source": [
        "<a href=\"https://colab.research.google.com/github/Alexei-Str/M.L.4course/blob/main/M_L_1.ipynb\" target=\"_parent\"><img src=\"https://colab.research.google.com/assets/colab-badge.svg\" alt=\"Open In Colab\"/></a>"
      ]
    },
    {
      "cell_type": "code",
      "execution_count": null,
      "metadata": {
        "colab": {
          "base_uri": "https://localhost:8080/",
          "height": 265
        },
        "id": "nwiMUQgkpG0l",
        "outputId": "545f9152-c84e-4006-8286-0c5064603184"
      },
      "outputs": [
        {
          "output_type": "display_data",
          "data": {
            "text/plain": [
              "<Figure size 432x288 with 1 Axes>"
            ],
            "image/png": "[encoded data removed]"
          },
          "metadata": {
            "needs_background": "light"
          }
        }
      ],
      "source": [
        "#1. Распределение выживших среди мужчин и женщин по классу билета.\n",
        "import pandas as pd\n",
        "import matplotlib.pyplot as plt\n",
        "def read_csv(file):\n",
        "    data = pd.read_csv(file)\n",
        "    return data\n",
        "\n",
        "def draw(dataset):\n",
        "    survived = list(dataset.Survived) #список с указанием выживших\n",
        "    pclass = list(dataset.Pclass) #список с указанием класса\n",
        "    genders = list(dataset.Sex) #список с указанием пола людей\n",
        "    pclassByGender = [0, 0, 0, 0, 0, 0] #число девушек в 1 классе\n",
        "    \n",
        "    for i in range (0,len(survived)):\n",
        "        if survived[i] == 1:\n",
        "            \n",
        "            if pclass[i] == 1:\n",
        "                if genders[i] == \"female\":\n",
        "                    pclassByGender[1] += 1\n",
        "                elif genders[i] == \"male\":\n",
        "                    pclassByGender[0] += 1\n",
        "\n",
        "            elif pclass[i] == 2:\n",
        "                if genders[i] == \"female\":\n",
        "                    pclassByGender[3] += 1\n",
        "                elif genders[i] == \"male\":\n",
        "                    pclassByGender[2] += 1\n",
        "\n",
        "            elif pclass[i] == 3:\n",
        "                if genders[i] == \"female\":\n",
        "                    pclassByGender[5] += 1\n",
        "                elif genders[i] == \"male\":\n",
        "                    pclassByGender[4] += 1\n",
        "\n",
        "    genders = ['male 1cl', 'female 1cl', 'male 2cl', 'female 2cl',\n",
        "               'male 3cl', 'female 3cl'] \n",
        "    colors = ['b', 'r', 'b', 'r', 'b', 'r']\n",
        "    \n",
        "    plt.bar(genders, pclassByGender, color = colors)\n",
        "    plt.show()\n",
        "data = read_csv(\"titanic.csv\")\n",
        "draw(data)\n"
      ]
    },
    {
      "cell_type": "code",
      "source": [
        "#2. Построить круговую диаграмму для признака \"класс пассажира\" (количество людей в каждом классе)\n",
        "import pandas as pd\n",
        "import matplotlib.pyplot as plt\n",
        "def read_csv(file):\n",
        "    data = pd.read_csv(file)\n",
        "    return data\n",
        "\n",
        "def draw(dataset):\n",
        "    pclass = list(dataset.Pclass) #список с указанием класса\n",
        "    pclassCount = [0, 0, 0]\n",
        "    labels = [\"1class\", \"2class\", \"3class\"]\n",
        "    \n",
        "    for i in range (0,len(pclass)):\n",
        "            \n",
        "        if pclass[i] == 1:\n",
        "            pclassCount[0] += 1\n",
        "        elif pclass[i] == 2:\n",
        "            pclassCount[1] += 1   \n",
        "        elif pclass[i] == 3:\n",
        "            pclassCount[2] += 1\n",
        "\n",
        "    fig, ax = plt.subplots()\n",
        "    ax.pie(pclassCount, labels=labels)\n",
        "    ax.axis(\"equal\")\n",
        "    \n",
        "data = read_csv(\"titanic.csv\")\n",
        "draw(data)\n"
      ],
      "metadata": {
        "colab": {
          "base_uri": "https://localhost:8080/",
          "height": 251
        },
        "id": "4uZ5bMlnr1Y7",
        "outputId": "1fe71e5d-a334-4019-c460-dcae09546698"
      },
      "execution_count": null,
      "outputs": [
        {
          "output_type": "display_data",
          "data": {
            "text/plain": [
              "<Figure size 432x288 with 1 Axes>"
            ],
            "image/png": "[encoded data removed]"
          },
          "metadata": {}
        }
      ]
    },
    {
      "cell_type": "code",
      "source": [
        "#3. Построить распределение возрастов всех пассажиров.\n",
        "import pandas as pd\n",
        "import matplotlib.pyplot as plt\n",
        "def read_csv(file):\n",
        "    data = pd.read_csv(file)\n",
        "    return data\n",
        "\n",
        "def draw(dataset):\n",
        "    ageList = list(dataset.Age)\n",
        "    genders = list(dataset.Sex)\n",
        "    colors = []\n",
        "    numb = []\n",
        "\n",
        "    for i in range (0,len(ageList)):\n",
        "        numb.append(i+1)\n",
        "        if genders[i] == \"female\":\n",
        "            colors.append('r')\n",
        "        elif genders[i] == \"male\":\n",
        "            colors.append('b')\n",
        "   \n",
        "    plt.bar(numb, ageList, color = colors)\n",
        "    plt.show()\n",
        "    \n",
        "data = read_csv(\"titanic.csv\")\n",
        "draw(data)\n"
      ],
      "metadata": {
        "colab": {
          "base_uri": "https://localhost:8080/",
          "height": 265
        },
        "id": "DLemfAvOJgEK",
        "outputId": "7e48e15d-8d88-4f34-924d-177049f61842"
      },
      "execution_count": null,
      "outputs": [
        {
          "output_type": "display_data",
          "data": {
            "text/plain": [
              "<Figure size 432x288 with 1 Axes>"
            ],
            "image/png": "[encoded data removed]"
          },
          "metadata": {
            "needs_background": "light"
          }
        }
      ]
    }
  ]
}